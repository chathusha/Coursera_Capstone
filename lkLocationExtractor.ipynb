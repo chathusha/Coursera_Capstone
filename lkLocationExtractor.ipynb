{
 "cells": [
  {
   "source": [
    "<h1>Location Extractor</h1>\n",
    "<p>This nb was used to extract the location data using the name of each GN division.<br>\n",
    "Google map API was used with geopy to extract the location data of each location.<br>\n",
    "Google map API was removed from the file. So, there wan't be any issue with shareing the file.</p>"
   ],
   "cell_type": "markdown",
   "metadata": {}
  },
  {
   "cell_type": "code",
   "execution_count": 54,
   "source": [
    "# import packages\n",
    "import pandas as pd\n",
    "from geopy import GoogleV3"
   ],
   "outputs": [],
   "metadata": {}
  },
  {
   "cell_type": "code",
   "execution_count": 109,
   "source": [
    "# read the csv file to df\n",
    "colomboCensus = pd.read_csv('colomboCensus.csv')\n",
    "colomboCensus.head()"
   ],
   "outputs": [
    {
     "output_type": "execute_result",
     "data": {
      "text/plain": [
       "        DS                GN GN Number Both sexes    Male  Female\n",
       "0  Colombo  Sammanthranapura       NaN      7,829   4,017   3,812\n",
       "1  Colombo      Mattakkuliya       NaN     28,003  14,029  13,974\n",
       "2  Colombo            Modara       NaN     17,757   8,794   8,963\n",
       "3  Colombo       Madampitiya       NaN     12,970   6,505   6,465\n",
       "4  Colombo         Mahawatta       NaN      8,809   4,367   4,442"
      ],
      "text/html": "<div>\n<style scoped>\n    .dataframe tbody tr th:only-of-type {\n        vertical-align: middle;\n    }\n\n    .dataframe tbody tr th {\n        vertical-align: top;\n    }\n\n    .dataframe thead th {\n        text-align: right;\n    }\n</style>\n<table border=\"1\" class=\"dataframe\">\n  <thead>\n    <tr style=\"text-align: right;\">\n      <th></th>\n      <th>DS</th>\n      <th>GN</th>\n      <th>GN Number</th>\n      <th>Both sexes</th>\n      <th>Male</th>\n      <th>Female</th>\n    </tr>\n  </thead>\n  <tbody>\n    <tr>\n      <th>0</th>\n      <td>Colombo</td>\n      <td>Sammanthranapura</td>\n      <td>NaN</td>\n      <td>7,829</td>\n      <td>4,017</td>\n      <td>3,812</td>\n    </tr>\n    <tr>\n      <th>1</th>\n      <td>Colombo</td>\n      <td>Mattakkuliya</td>\n      <td>NaN</td>\n      <td>28,003</td>\n      <td>14,029</td>\n      <td>13,974</td>\n    </tr>\n    <tr>\n      <th>2</th>\n      <td>Colombo</td>\n      <td>Modara</td>\n      <td>NaN</td>\n      <td>17,757</td>\n      <td>8,794</td>\n      <td>8,963</td>\n    </tr>\n    <tr>\n      <th>3</th>\n      <td>Colombo</td>\n      <td>Madampitiya</td>\n      <td>NaN</td>\n      <td>12,970</td>\n      <td>6,505</td>\n      <td>6,465</td>\n    </tr>\n    <tr>\n      <th>4</th>\n      <td>Colombo</td>\n      <td>Mahawatta</td>\n      <td>NaN</td>\n      <td>8,809</td>\n      <td>4,367</td>\n      <td>4,442</td>\n    </tr>\n  </tbody>\n</table>\n</div>"
     },
     "metadata": {},
     "execution_count": 109
    }
   ],
   "metadata": {}
  },
  {
   "cell_type": "code",
   "execution_count": 116,
   "metadata": {},
   "outputs": [],
   "source": [
    "# google maps API key\n",
    "APIKEY = 'Input the API key here'"
   ]
  },
  {
   "cell_type": "code",
   "execution_count": 14,
   "source": [
    "# define a list to store the outputs\n",
    "colomboLocations = []\n",
    "# define a Nominatum object to get location data\n",
    "googleMap = GoogleV3(APIKEY)\n",
    "# get the location data of each location add to df\n",
    "for brough, neighborhood in zip(colomboCensus['DS'], colomboCensus['GN']):\n",
    "    address = '{}, {}'.format(neighborhood, brough)\n",
    "    row = {}\n",
    "    # get location data using geopy\n",
    "    location = googleMap.geocode(address, region='LK')\n",
    "    # populate the row dict with extracted data\n",
    "    row['DS'] = brough\n",
    "    row['GN'] = neighborhood\n",
    "    if location is not None:\n",
    "        row['Latitude'] = location.latitude\n",
    "        row['Longitude'] = location.longitude\n",
    "    else:\n",
    "        row['Latitude'] = 0\n",
    "        row['Longitude'] = 0\n",
    "    # add the dict to list\n",
    "    colomboLocations.append(row)"
   ],
   "outputs": [],
   "metadata": {}
  },
  {
   "cell_type": "code",
   "execution_count": 110,
   "source": [
    "# turn the location data into a df\n",
    "tempDF = pd.DataFrame(colomboLocations)\n",
    "# drop the DS column from df\n",
    "tempDF.drop('DS', axis=1, inplace=True)"
   ],
   "outputs": [],
   "metadata": {}
  },
  {
   "cell_type": "code",
   "execution_count": 111,
   "metadata": {},
   "outputs": [
    {
     "output_type": "stream",
     "name": "stdout",
     "text": [
      "<class 'pandas.core.frame.DataFrame'>\nRangeIndex: 557 entries, 0 to 556\nData columns (total 6 columns):\n #   Column      Non-Null Count  Dtype \n---  ------      --------------  ----- \n 0   DS          557 non-null    object\n 1   GN          557 non-null    object\n 2   GN Number   502 non-null    object\n 3   Both sexes  557 non-null    object\n 4   Male        557 non-null    object\n 5   Female      557 non-null    object\ndtypes: object(6)\nmemory usage: 26.2+ KB\n"
     ]
    }
   ],
   "source": [
    "# change the dtypes of df columns befor join\n",
    "# check the dtypes\n",
    "colomboCensus.info()"
   ]
  },
  {
   "cell_type": "code",
   "execution_count": 112,
   "metadata": {},
   "outputs": [
    {
     "output_type": "stream",
     "name": "stdout",
     "text": [
      "<class 'pandas.core.frame.DataFrame'>\nRangeIndex: 557 entries, 0 to 556\nData columns (total 6 columns):\n #   Column      Non-Null Count  Dtype \n---  ------      --------------  ----- \n 0   DS          557 non-null    object\n 1   GN          557 non-null    object\n 2   GN Number   502 non-null    object\n 3   Both sexes  557 non-null    int32 \n 4   Male        557 non-null    int32 \n 5   Female      557 non-null    int32 \ndtypes: int32(3), object(3)\nmemory usage: 19.7+ KB\n"
     ]
    }
   ],
   "source": [
    "# remove comas from the numeric values\n",
    "colomboCensus.replace(',', '', regex=True, inplace=True)\n",
    "# change the dtypes\n",
    "colomboCensus = colomboCensus.astype({'Both sexes':'int32', 'Male':'int32', 'Female':'int32'})\n",
    "# check the dtype after modification\n",
    "colomboCensus.info()"
   ]
  },
  {
   "cell_type": "code",
   "execution_count": 113,
   "metadata": {},
   "outputs": [
    {
     "output_type": "stream",
     "name": "stdout",
     "text": [
      "<class 'pandas.core.frame.DataFrame'>\nRangeIndex: 557 entries, 0 to 556\nData columns (total 3 columns):\n #   Column     Non-Null Count  Dtype  \n---  ------     --------------  -----  \n 0   GN         557 non-null    object \n 1   Latitude   557 non-null    float64\n 2   Longitude  557 non-null    float64\ndtypes: float64(2), object(1)\nmemory usage: 13.2+ KB\n"
     ]
    }
   ],
   "source": [
    "# check the df dtypes\n",
    "tempDF.info()"
   ]
  },
  {
   "cell_type": "code",
   "execution_count": 114,
   "metadata": {},
   "outputs": [
    {
     "output_type": "execute_result",
     "data": {
      "text/plain": [
       "        DS                GN GN Number  Both sexes   Male  Female  Latitude  \\\n",
       "0  Colombo  Sammanthranapura       NaN        7829   4017    3812  6.978943   \n",
       "1  Colombo      Mattakkuliya       NaN       28003  14029   13974  6.971672   \n",
       "2  Colombo            Modara       NaN       17757   8794    8963  6.966925   \n",
       "3  Colombo       Madampitiya       NaN       12970   6505    6465  6.961663   \n",
       "4  Colombo         Mahawatta       NaN        8809   4367    4442  6.958307   \n",
       "\n",
       "   Longitude  \n",
       "0  79.877983  \n",
       "1  79.878683  \n",
       "2  79.871153  \n",
       "3  79.875184  \n",
       "4  79.873084  "
      ],
      "text/html": "<div>\n<style scoped>\n    .dataframe tbody tr th:only-of-type {\n        vertical-align: middle;\n    }\n\n    .dataframe tbody tr th {\n        vertical-align: top;\n    }\n\n    .dataframe thead th {\n        text-align: right;\n    }\n</style>\n<table border=\"1\" class=\"dataframe\">\n  <thead>\n    <tr style=\"text-align: right;\">\n      <th></th>\n      <th>DS</th>\n      <th>GN</th>\n      <th>GN Number</th>\n      <th>Both sexes</th>\n      <th>Male</th>\n      <th>Female</th>\n      <th>Latitude</th>\n      <th>Longitude</th>\n    </tr>\n  </thead>\n  <tbody>\n    <tr>\n      <th>0</th>\n      <td>Colombo</td>\n      <td>Sammanthranapura</td>\n      <td>NaN</td>\n      <td>7829</td>\n      <td>4017</td>\n      <td>3812</td>\n      <td>6.978943</td>\n      <td>79.877983</td>\n    </tr>\n    <tr>\n      <th>1</th>\n      <td>Colombo</td>\n      <td>Mattakkuliya</td>\n      <td>NaN</td>\n      <td>28003</td>\n      <td>14029</td>\n      <td>13974</td>\n      <td>6.971672</td>\n      <td>79.878683</td>\n    </tr>\n    <tr>\n      <th>2</th>\n      <td>Colombo</td>\n      <td>Modara</td>\n      <td>NaN</td>\n      <td>17757</td>\n      <td>8794</td>\n      <td>8963</td>\n      <td>6.966925</td>\n      <td>79.871153</td>\n    </tr>\n    <tr>\n      <th>3</th>\n      <td>Colombo</td>\n      <td>Madampitiya</td>\n      <td>NaN</td>\n      <td>12970</td>\n      <td>6505</td>\n      <td>6465</td>\n      <td>6.961663</td>\n      <td>79.875184</td>\n    </tr>\n    <tr>\n      <th>4</th>\n      <td>Colombo</td>\n      <td>Mahawatta</td>\n      <td>NaN</td>\n      <td>8809</td>\n      <td>4367</td>\n      <td>4442</td>\n      <td>6.958307</td>\n      <td>79.873084</td>\n    </tr>\n  </tbody>\n</table>\n</div>"
     },
     "metadata": {},
     "execution_count": 114
    }
   ],
   "source": [
    "# join two df\n",
    "colomboCensus = colomboCensus.merge(tempDF, on='GN')\n",
    "colomboCensus.head()"
   ]
  },
  {
   "cell_type": "code",
   "execution_count": 115,
   "metadata": {},
   "outputs": [],
   "source": [
    "# store the results as a csv file\n",
    "colomboCensus.to_csv('colomboCensusProcessed.csv', index=False)"
   ]
  },
  {
   "cell_type": "code",
   "execution_count": null,
   "metadata": {},
   "outputs": [],
   "source": []
  }
 ],
 "metadata": {
  "orig_nbformat": 4,
  "language_info": {
   "name": "python",
   "version": "3.9.6"
  },
  "kernelspec": {
   "name": "python3",
   "display_name": "Python 3.9.6 64-bit ('venv': venv)"
  },
  "interpreter": {
   "hash": "b429883b58fb923b9977c99be3a8a6af2533b7bec5e443525bd6c8be5836c39a"
  }
 },
 "nbformat": 4,
 "nbformat_minor": 2
}